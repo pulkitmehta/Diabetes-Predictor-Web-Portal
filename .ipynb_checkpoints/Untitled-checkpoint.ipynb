{
 "cells": [
  {
   "cell_type": "code",
   "execution_count": 1,
   "metadata": {},
   "outputs": [],
   "source": [
    "from flask import Flask\n",
    "app = Flask(__name__)\n",
    "\n",
    "@app.route('/')\n",
    "def hello_world():\n",
    "    return 'Hello, World!'"
   ]
  },
  {
   "cell_type": "code",
   "execution_count": 1,
   "metadata": {},
   "outputs": [],
   "source": [
    "import numpy as np\n",
    "import pandas as pd"
   ]
  },
  {
   "cell_type": "code",
   "execution_count": 27,
   "metadata": {},
   "outputs": [],
   "source": [
    "def newFeatures(data):\n",
    "    cols=['G<105','P<4','BP<48','ST<12','IN<50','BMI<21','G<125_IN<125','G<105_AGE<30','G<105_BMI<30','G<100_BP<48','ST<20_BMI<30']\n",
    "    data_new=pd.DataFrame(np.zeros((data.shape[0],len(cols))), columns=cols)\n",
    "    for i in range(data_new.shape[0]):\n",
    "        if data['Glucose'][i]<105:\n",
    "            data_new['G<105'][i]=1\n",
    "        \n",
    "        if data['Pregnancies'][i]<4:\n",
    "            data_new['P<4'][i]=1\n",
    "        if data['BloodPressure'][i]<48:\n",
    "            data_new['BP<48'][i]=1\n",
    "        if data['SkinThickness'][i]<12:\n",
    "            data_new['ST<12'][i]=1\n",
    "        if data['Insulin'][i]<50:\n",
    "            data_new['IN<50'][i]=1\n",
    "        if data['BMI'][i]<21:\n",
    "            data_new['BMI<21'][i]=1\n",
    "        if data['Glucose'][i]<125 and data['Insulin'][i]<125:\n",
    "            data_new['G<125_IN<125'][i]=1\n",
    "        if data['Glucose'][i]<105 and data['Age'][i]<30:\n",
    "            data_new['G<105_AGE<30'][i]=1\n",
    "        if data['Glucose'][i]<105 and data['BMI'][i]<30:\n",
    "            data_new['G<105_BMI<30'][i]=1\n",
    "        if data['Glucose'][i]<100 and data['BloodPressure'][i]<48:\n",
    "            data_new['G<100_BP<48'][i]=1\n",
    "        if data['SkinThickness'][i]<20 and data['BMI'][i]<30:\n",
    "            data_new['ST<20_BMI<30'][i]=1\n",
    "            \n",
    "    data_new['BMI*ST']=data['BMI']*data['SkinThickness']       \n",
    "    data_new['G/IN']=data['Glucose']/data['Insulin']\n",
    "    data_new['P/A']=data['Pregnancies']/data['Age']\n",
    "    \n",
    "    return (pd.concat([data_new,data],axis=1)).values\n",
    "\n",
    "columns=['Pregnancies','Glucose','BloodPressure','SkinThickness','Insulin','BMI','DiabetesPedigreeFunction','Age']\n",
    "def transform(data):\n",
    "    data=np.array(data)\n",
    "    print(data)\n",
    "    data=newFeatures(pd.DataFrame(data, columns=columns))\n",
    "    print(data)\n",
    "    data=scaler.transform(data)\n",
    "    return data"
   ]
  },
  {
   "cell_type": "code",
   "execution_count": 30,
   "metadata": {},
   "outputs": [
    {
     "name": "stdout",
     "output_type": "stream",
     "text": [
      "[[1 2 3 4 5 6 7 8]]\n",
      "[[ 1.     1.     1.     1.     1.     1.     1.     1.     1.     1.\n",
      "   1.    24.     0.4    0.125  1.     2.     3.     4.     5.     6.\n",
      "   7.     8.   ]]\n"
     ]
    },
    {
     "ename": "NameError",
     "evalue": "name 'scaler' is not defined",
     "output_type": "error",
     "traceback": [
      "\u001b[0;31m---------------------------------------------------------------------------\u001b[0m",
      "\u001b[0;31mNameError\u001b[0m                                 Traceback (most recent call last)",
      "\u001b[0;32m<ipython-input-30-52d1e9107912>\u001b[0m in \u001b[0;36m<module>\u001b[0;34m\u001b[0m\n\u001b[0;32m----> 1\u001b[0;31m \u001b[0mtransform\u001b[0m\u001b[0;34m(\u001b[0m\u001b[0;34m[\u001b[0m\u001b[0;34m[\u001b[0m\u001b[0;36m1\u001b[0m\u001b[0;34m,\u001b[0m \u001b[0;36m2\u001b[0m\u001b[0;34m,\u001b[0m \u001b[0;36m3\u001b[0m\u001b[0;34m,\u001b[0m \u001b[0;36m4\u001b[0m\u001b[0;34m,\u001b[0m \u001b[0;36m5\u001b[0m\u001b[0;34m,\u001b[0m \u001b[0;36m6\u001b[0m\u001b[0;34m,\u001b[0m \u001b[0;36m7\u001b[0m\u001b[0;34m,\u001b[0m \u001b[0;36m8\u001b[0m\u001b[0;34m]\u001b[0m\u001b[0;34m]\u001b[0m\u001b[0;34m)\u001b[0m\u001b[0;34m\u001b[0m\u001b[0;34m\u001b[0m\u001b[0m\n\u001b[0m",
      "\u001b[0;32m<ipython-input-27-ec60b3235e20>\u001b[0m in \u001b[0;36mtransform\u001b[0;34m(data)\u001b[0m\n\u001b[1;32m     39\u001b[0m     \u001b[0mdata\u001b[0m\u001b[0;34m=\u001b[0m\u001b[0mnewFeatures\u001b[0m\u001b[0;34m(\u001b[0m\u001b[0mpd\u001b[0m\u001b[0;34m.\u001b[0m\u001b[0mDataFrame\u001b[0m\u001b[0;34m(\u001b[0m\u001b[0mdata\u001b[0m\u001b[0;34m,\u001b[0m \u001b[0mcolumns\u001b[0m\u001b[0;34m=\u001b[0m\u001b[0mcolumns\u001b[0m\u001b[0;34m)\u001b[0m\u001b[0;34m)\u001b[0m\u001b[0;34m\u001b[0m\u001b[0;34m\u001b[0m\u001b[0m\n\u001b[1;32m     40\u001b[0m     \u001b[0mprint\u001b[0m\u001b[0;34m(\u001b[0m\u001b[0mdata\u001b[0m\u001b[0;34m)\u001b[0m\u001b[0;34m\u001b[0m\u001b[0;34m\u001b[0m\u001b[0m\n\u001b[0;32m---> 41\u001b[0;31m     \u001b[0mdata\u001b[0m\u001b[0;34m=\u001b[0m\u001b[0mscaler\u001b[0m\u001b[0;34m.\u001b[0m\u001b[0mtransform\u001b[0m\u001b[0;34m(\u001b[0m\u001b[0mdata\u001b[0m\u001b[0;34m)\u001b[0m\u001b[0;34m\u001b[0m\u001b[0;34m\u001b[0m\u001b[0m\n\u001b[0m\u001b[1;32m     42\u001b[0m     \u001b[0;32mreturn\u001b[0m \u001b[0mdata\u001b[0m\u001b[0;34m\u001b[0m\u001b[0;34m\u001b[0m\u001b[0m\n",
      "\u001b[0;31mNameError\u001b[0m: name 'scaler' is not defined"
     ]
    }
   ],
   "source": [
    "transform([[1, 2, 3, 4, 5, 6, 7, 8]])"
   ]
  },
  {
   "cell_type": "code",
   "execution_count": null,
   "metadata": {},
   "outputs": [],
   "source": []
  }
 ],
 "metadata": {
  "kernelspec": {
   "display_name": "Python 3",
   "language": "python",
   "name": "python3"
  },
  "language_info": {
   "codemirror_mode": {
    "name": "ipython",
    "version": 3
   },
   "file_extension": ".py",
   "mimetype": "text/x-python",
   "name": "python",
   "nbconvert_exporter": "python",
   "pygments_lexer": "ipython3",
   "version": "3.7.1"
  }
 },
 "nbformat": 4,
 "nbformat_minor": 2
}
